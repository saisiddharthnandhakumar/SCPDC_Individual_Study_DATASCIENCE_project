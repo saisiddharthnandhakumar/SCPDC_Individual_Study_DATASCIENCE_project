{
 "cells": [
  {
   "cell_type": "code",
   "execution_count": 22,
   "metadata": {
    "collapsed": true,
    "pycharm": {
     "name": "#%%\n"
    }
   },
   "outputs": [],
   "source": [
    "%%capture\n",
    "import sys\n",
    "!{sys.executable} -m pip install atlassian-python-api"
   ]
  },
  {
   "cell_type": "code",
   "execution_count": 23,
   "outputs": [],
   "source": [
    "%%capture\n",
    "import sys\n",
    "!{sys.executable} -m pip install jira"
   ],
   "metadata": {
    "collapsed": false,
    "pycharm": {
     "name": "#%%\n"
    }
   }
  },
  {
   "cell_type": "code",
   "execution_count": 3,
   "outputs": [],
   "source": [
    "%%capture\n",
    "import sys\n",
    "!{sys.executable} -m pip install requests"
   ],
   "metadata": {
    "collapsed": false,
    "pycharm": {
     "name": "#%%\n"
    }
   }
  },
  {
   "cell_type": "code",
   "execution_count": 4,
   "outputs": [],
   "source": [
    "%%capture\n",
    "import sys\n",
    "!{sys.executable} -m pip install pandas"
   ],
   "metadata": {
    "collapsed": false,
    "pycharm": {
     "name": "#%%\n"
    }
   }
  },
  {
   "cell_type": "code",
   "execution_count": 9,
   "outputs": [
    {
     "name": "stdout",
     "output_type": "stream",
     "text": [
      "          Key                                               Info\n",
      "0  MWS-118358  MyGovernmentOnline.org\\n\\nNew Contact Request\\...\n",
      "1  MWS-118318  When accepting certain applications online (su...\n",
      "2  MWS-118300  Emanuel,\\r\\nFiles in the application state or ...\n",
      "3  MWS-118005  Can you please remove the permit that is popul...\n"
     ]
    }
   ],
   "source": [
    "# This code sample uses the 'requests' library:\n",
    "# http://docs.python-requests.org\n",
    "import requests\n",
    "from requests.auth import HTTPBasicAuth\n",
    "import json\n",
    "import pandas as pd\n",
    "\n",
    "url = \"https://mygovernmentonline.atlassian.net/rest/api/2/search\"\n",
    "\n",
    "auth = HTTPBasicAuth(\"sidn@scpdc.org\", \"hNlebrlGZn8p4pcSZ1ChB760\")\n",
    "\n",
    "headers = {\n",
    "    \"Accept\": \"application/json\",\n",
    "    \"Content-Type\": \"application/json\"\n",
    "}\n",
    "\n",
    "payload = json.dumps( {\n",
    "    \"expand\": [\n",
    "        \"names\",\n",
    "        \"schema\",\n",
    "        \"operations\"\n",
    "    ],\n",
    "    \"jql\": \"project = MWS AND type IN ('Customer Portal (Web)','Customer Portal (Mobile)')AND assignee = EMPTY AND status = Acknowledged ORDER BY created DESC\",\n",
    "    \"maxResults\": 15,\n",
    "    \"fieldsByKeys\": 'false',\n",
    "    \"fields\": [\n",
    "        \"summary\",\n",
    "        \"status\",\n",
    "        \"assignee\",\n",
    "        \"description\"\n",
    "    ],\n",
    "    \"startAt\": 0\n",
    "} )\n",
    "\n",
    "response = requests.request(\n",
    "    \"POST\",\n",
    "    url,\n",
    "    data=payload,\n",
    "    headers=headers,\n",
    "    auth=auth\n",
    ")\n",
    "\n",
    "list1 = []\n",
    "list2 = []\n",
    "data = response.json()\n",
    "issues = data['issues']\n",
    "for issue in issues:\n",
    "    list1.append(issue['key'])\n",
    "    list2.append(issue['fields']['description'])\n",
    "    #dic['key'] = issue['key']\n",
    "    #dic['info'] = issue['fields']['description']\n",
    "\n",
    "\n",
    "dic = {\"Key\": list1, \"Info\": list2}\n",
    "df = pd.DataFrame.from_dict(dic)\n",
    "print(df)\n",
    "#print(json.dumps(json.loads(response.text), sort_keys=True, indent=4, separators=(\",\", \": \")))"
   ],
   "metadata": {
    "collapsed": false,
    "pycharm": {
     "name": "#%%\n"
    }
   }
  }
 ],
 "metadata": {
  "kernelspec": {
   "display_name": "Python 3",
   "language": "python",
   "name": "python3"
  },
  "language_info": {
   "codemirror_mode": {
    "name": "ipython",
    "version": 2
   },
   "file_extension": ".py",
   "mimetype": "text/x-python",
   "name": "python",
   "nbconvert_exporter": "python",
   "pygments_lexer": "ipython2",
   "version": "2.7.6"
  }
 },
 "nbformat": 4,
 "nbformat_minor": 0
}